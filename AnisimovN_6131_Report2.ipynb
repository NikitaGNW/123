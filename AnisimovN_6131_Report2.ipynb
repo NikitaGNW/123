{
  "cells": [
    {
      "cell_type": "markdown",
      "id": "5a14ca55",
      "metadata": {},
      "source": [
        "<p style=\"text-align: center;\">МИНИСТЕРСТВО ОБРАЗОВАНИЯ И НАУКИ\n",
        "РОССИЙСКОЙ ФЕДЕРАЦИИ\n",
        "\n",
        "<p style=\"text-align: center;\">Федеральное государственное автономное\n",
        "образовательное учреждение высшего образования\n",
        "«Самарский национальный исследовательский университет\n",
        "имени академика С. П. Королева»\n",
        "(Самарский университет)</p>\n",
        "<br>\n",
        "<br>\n",
        "<br>\n",
        "\n",
        "<p style=\"text-align: center;\">Институт информатики и кибернетики\n",
        "    \n",
        "<p style=\"text-align: center;\">Факультет информатики\n",
        "    \n",
        "<p style=\"text-align: center;\">Кафедра технической кибернетики\n",
        "    \n",
        " <br><br><br>   \n",
        "\n",
        "<p style=\"text-align: center;\">ОТЧЁТ\n",
        "\n",
        "<p style=\"text-align: center;\">по лабораторной работе № 2\n",
        "<p style=\"text-align: center;\">«Кластерный анализ»\n",
        "<p style=\"text-align: center;\">по курсу «Интеллектуальный анализ данных и большие данные»\n",
        "\n",
        "<p style=\"text-align: center;\">Вариант 6\n",
        "<br><br><br><br><br><br><br><br>\n",
        "\n",
        "\n",
        "\n",
        "\n",
        "\n",
        "\n",
        "\n",
        "<p style=\"text-align: right;\">Выполнил: Анисимов Н.С.\n",
        "<p style=\"text-align: right;\">гр. 6131-020402D\n",
        "<p style=\"text-align: right;\">Проверил: Попов С. Б.\n",
        "<br><br><br><br><br><br><br><br><br>\n",
        "\n",
        "\n",
        "\n",
        "\n",
        "\n",
        "\n",
        "\n",
        "\n",
        "<p style=\"text-align: center;\">Самара 2023"
      ]
    },
    {
      "cell_type": "markdown",
      "id": "25a25c5e",
      "metadata": {},
      "source": [
        "<b>Задание на лабораторную работу</b>\n",
        "\n",
        "\n",
        "Входные данные: n объектов, каждый из которых характеризуетсядвумя числовыми признаками xи y, а также номером классаc.\n",
        "\n",
        "Требуется исследовать работу алгоритмов кластеризации объектовнаблюдения по двум признакам. Для каждого набора данных требуется выполнить следующие задания.\n",
        "1. Провести кластеризацию объектов наблюдения с помощью алгоритма k внутригрупповых средних.\n",
        "2. Графически изобразить на плоскости разбиения объектов наблюдения в соответствии с кластерами и в соответствии с классамиc. Также отметить центры каждого кластера. Количество кластеров должно соответствовать количеству классов.\n",
        "3.Для разбиения на кластеры вычислить сумму квадратов расстояний от каждого объекта наблюдения до центра соответствующего кластера.\n",
        "\n",
        "\n",
        "\n",
        "<b>Данные для варианта 6:</b>\n",
        "\n",
        "Echocardiogram Data Set\n",
        "\n",
        "Название файла: echocardiogram.data Ссылка: http://archive.ics.uci.edu/ml/datasets/Echocardiogram\n",
        "\n",
        "Первый признак: fractional-shortening (столбец 5)\n",
        "\n",
        "Второй признак: wall-motion-score (столбец 8)\n",
        "\n",
        "Класс: still-alive (столбец 2)"
      ]
    },
    {
      "cell_type": "markdown",
      "id": "dc78ee7a",
      "metadata": {},
      "source": [
        "<b>Ход работы</b>\n",
        "\n",
        "1. Импортируем все необходимые для работы библиотеки"
      ]
    },
    {
      "cell_type": "code",
      "execution_count": 1,
      "id": "0583a095",
      "metadata": {},
      "outputs": [],
      "source": [
        "import pandas as pd\n",
        "import matplotlib.pyplot as plt\n",
        "import numpy as np\n",
        "from scipy.stats import t\n",
        "from sklearn import datasets\n",
        "from sklearn.cluster import KMeans"
      ]
    },
    {
      "cell_type": "markdown",
      "id": "e758c5dd",
      "metadata": {},
      "source": [
        "2. С помощью библиотеки panda загрузим наш датасет"
      ]
    },
    {
      "cell_type": "code",
      "execution_count": 2,
      "id": "8aed195f",
      "metadata": {},
      "outputs": [],
      "source": [
        "df_echo = pd.read_csv('echocardiogram.data',sep=\",\")"
      ]
    },
    {
      "cell_type": "markdown",
      "id": "4e6468af",
      "metadata": {},
      "source": [
        "3. По данным из датасета видно, что все объекты разделяются на два класса: \"жив\" и \"не жив\", поэтому зададим количество кластеров для нашей модели равное 2."
      ]
    },
    {
      "cell_type": "code",
      "execution_count": 3,
      "id": "e11870a0",
      "metadata": {},
      "outputs": [
        {
          "data": {
            "text/html": [
              "<style>#sk-container-id-1 {color: black;background-color: white;}#sk-container-id-1 pre{padding: 0;}#sk-container-id-1 div.sk-toggleable {background-color: white;}#sk-container-id-1 label.sk-toggleable__label {cursor: pointer;display: block;width: 100%;margin-bottom: 0;padding: 0.3em;box-sizing: border-box;text-align: center;}#sk-container-id-1 label.sk-toggleable__label-arrow:before {content: \"▸\";float: left;margin-right: 0.25em;color: #696969;}#sk-container-id-1 label.sk-toggleable__label-arrow:hover:before {color: black;}#sk-container-id-1 div.sk-estimator:hover label.sk-toggleable__label-arrow:before {color: black;}#sk-container-id-1 div.sk-toggleable__content {max-height: 0;max-width: 0;overflow: hidden;text-align: left;background-color: #f0f8ff;}#sk-container-id-1 div.sk-toggleable__content pre {margin: 0.2em;color: black;border-radius: 0.25em;background-color: #f0f8ff;}#sk-container-id-1 input.sk-toggleable__control:checked~div.sk-toggleable__content {max-height: 200px;max-width: 100%;overflow: auto;}#sk-container-id-1 input.sk-toggleable__control:checked~label.sk-toggleable__label-arrow:before {content: \"▾\";}#sk-container-id-1 div.sk-estimator input.sk-toggleable__control:checked~label.sk-toggleable__label {background-color: #d4ebff;}#sk-container-id-1 div.sk-label input.sk-toggleable__control:checked~label.sk-toggleable__label {background-color: #d4ebff;}#sk-container-id-1 input.sk-hidden--visually {border: 0;clip: rect(1px 1px 1px 1px);clip: rect(1px, 1px, 1px, 1px);height: 1px;margin: -1px;overflow: hidden;padding: 0;position: absolute;width: 1px;}#sk-container-id-1 div.sk-estimator {font-family: monospace;background-color: #f0f8ff;border: 1px dotted black;border-radius: 0.25em;box-sizing: border-box;margin-bottom: 0.5em;}#sk-container-id-1 div.sk-estimator:hover {background-color: #d4ebff;}#sk-container-id-1 div.sk-parallel-item::after {content: \"\";width: 100%;border-bottom: 1px solid gray;flex-grow: 1;}#sk-container-id-1 div.sk-label:hover label.sk-toggleable__label {background-color: #d4ebff;}#sk-container-id-1 div.sk-serial::before {content: \"\";position: absolute;border-left: 1px solid gray;box-sizing: border-box;top: 0;bottom: 0;left: 50%;z-index: 0;}#sk-container-id-1 div.sk-serial {display: flex;flex-direction: column;align-items: center;background-color: white;padding-right: 0.2em;padding-left: 0.2em;position: relative;}#sk-container-id-1 div.sk-item {position: relative;z-index: 1;}#sk-container-id-1 div.sk-parallel {display: flex;align-items: stretch;justify-content: center;background-color: white;position: relative;}#sk-container-id-1 div.sk-item::before, #sk-container-id-1 div.sk-parallel-item::before {content: \"\";position: absolute;border-left: 1px solid gray;box-sizing: border-box;top: 0;bottom: 0;left: 50%;z-index: -1;}#sk-container-id-1 div.sk-parallel-item {display: flex;flex-direction: column;z-index: 1;position: relative;background-color: white;}#sk-container-id-1 div.sk-parallel-item:first-child::after {align-self: flex-end;width: 50%;}#sk-container-id-1 div.sk-parallel-item:last-child::after {align-self: flex-start;width: 50%;}#sk-container-id-1 div.sk-parallel-item:only-child::after {width: 0;}#sk-container-id-1 div.sk-dashed-wrapped {border: 1px dashed gray;margin: 0 0.4em 0.5em 0.4em;box-sizing: border-box;padding-bottom: 0.4em;background-color: white;}#sk-container-id-1 div.sk-label label {font-family: monospace;font-weight: bold;display: inline-block;line-height: 1.2em;}#sk-container-id-1 div.sk-label-container {text-align: center;}#sk-container-id-1 div.sk-container {/* jupyter's `normalize.less` sets `[hidden] { display: none; }` but bootstrap.min.css set `[hidden] { display: none !important; }` so we also need the `!important` here to be able to override the default hidden behavior on the sphinx rendered scikit-learn.org. See: https://github.com/scikit-learn/scikit-learn/issues/21755 */display: inline-block !important;position: relative;}#sk-container-id-1 div.sk-text-repr-fallback {display: none;}</style><div id=\"sk-container-id-1\" class=\"sk-top-container\"><div class=\"sk-text-repr-fallback\"><pre>KMeans(n_clusters=2)</pre><b>In a Jupyter environment, please rerun this cell to show the HTML representation or trust the notebook. <br />On GitHub, the HTML representation is unable to render, please try loading this page with nbviewer.org.</b></div><div class=\"sk-container\" hidden><div class=\"sk-item\"><div class=\"sk-estimator sk-toggleable\"><input class=\"sk-toggleable__control sk-hidden--visually\" id=\"sk-estimator-id-1\" type=\"checkbox\" checked><label for=\"sk-estimator-id-1\" class=\"sk-toggleable__label sk-toggleable__label-arrow\">KMeans</label><div class=\"sk-toggleable__content\"><pre>KMeans(n_clusters=2)</pre></div></div></div></div></div>"
            ],
            "text/plain": [
              "KMeans(n_clusters=2)"
            ]
          },
          "execution_count": 3,
          "metadata": {},
          "output_type": "execute_result"
        }
      ],
      "source": [
        "df_main = df_echo[['fractional-shortening', 'wall-motion-score']]\n",
        "n_clusters = 2\n",
        "# Описываем модель\n",
        "model = KMeans(n_clusters=n_clusters)\n",
        "\n",
        "# Проводим моделирование\n",
        "model.fit(df_main)"
      ]
    },
    {
      "cell_type": "markdown",
      "id": "dc2123ba",
      "metadata": {},
      "source": [
        "4. Посмотрим результат разбиения данных на кластеры и координаты центров"
      ]
    },
    {
      "cell_type": "code",
      "execution_count": 4,
      "id": "c52fe2dd",
      "metadata": {},
      "outputs": [
        {
          "name": "stdout",
          "output_type": "stream",
          "text": [
            "[1 1 1 1 0 1 0 1 1 1 0 1 1 1 1 1 0 0 1 0 0 1 1 1 1 1 1 1 1 1 1 1 0 1 1 0 1\n",
            " 1 0 1 1 0 1 0 1 0 1 1 1 0 1 1 1 1 0 1 1 1 1 1 1 0 1 1 1 0 1 1 0 1 1 1 0 1\n",
            " 1 1 1 1 0 1 1 1 1 1 1 0 1 0 1 0 1 1 1 1 0 1 1 1 1 1 1 0 1 1 1 0 1 1 0 1 1\n",
            " 1 1 0 1 1 1 1 1 1 1 1]\n"
          ]
        }
      ],
      "source": [
        "labels = model.labels_\n",
        "print(labels)"
      ]
    },
    {
      "cell_type": "code",
      "execution_count": 5,
      "id": "cb9e94ff",
      "metadata": {},
      "outputs": [
        {
          "name": "stdout",
          "output_type": "stream",
          "text": [
            "[[ 0.19553571 21.1275    ]\n",
            " [ 0.22287234 12.53734043]]\n"
          ]
        }
      ],
      "source": [
        "centers = model.cluster_centers_\n",
        "print(centers)"
      ]
    },
    {
      "cell_type": "markdown",
      "id": "09b67bd0",
      "metadata": {},
      "source": [
        "5. Построим графики реальных данных и результаты кластеризации"
      ]
    },
    {
      "cell_type": "code",
      "execution_count": 7,
      "id": "e4726095",
      "metadata": {},
      "outputs": [
        {
          "data": {
            "image/png": "[encoded data removed]",
            "text/plain": [
              "<Figure size 1200x600 with 1 Axes>"
            ]
          },
          "metadata": {},
          "output_type": "display_data"
        }
      ],
      "source": [
        "colors = ['green', 'pink']\n",
        "X=df_echo.values[:,[4,7]]\n",
        "Y = df_echo.values[:,[1]]\n",
        "# Создать холст\n",
        "plt.figure(figsize=(12,6))\n",
        "plt.title('Реальные классы')\n",
        "Y = df_echo.values[:,[1]]\n",
        "i=0\n",
        "while i < len(Y):\n",
        "    # Отображение точек выборки\n",
        "    color = colors[Y[i][0]]\n",
        "    plt.scatter(X[i, 0], X[i, 1], c=color, marker='.')\n",
        "    i+=1\n",
        "plt.show()"
      ]
    },
    {
      "cell_type": "code",
      "execution_count": 14,
      "id": "d69f6c6a",
      "metadata": {},
      "outputs": [
        {
          "data": {
            "image/png": "[encoded data removed]",
            "text/plain": [
              "<Figure size 1200x600 with 2 Axes>"
            ]
          },
          "metadata": {},
          "output_type": "display_data"
        }
      ],
      "source": [
        "# Модель прогнозирующей кластеризации\n",
        "pre_y = model.predict(df_main)\n",
        "colors = ['green', 'pink']\n",
        "Y = df_echo.values[:,[1]]\n",
        "# Создать холст\n",
        "plt.figure(figsize=(12,6))\n",
        "titles = ['Clusters', 'Predict']\n",
        "for j, y_ in enumerate([model.labels_, pre_y]):\n",
        "    plt.subplot(1,2, j+1)\n",
        "    plt.title(titles[j])\n",
        "    # Циклическое чтение категории\n",
        "    for i in range(n_clusters):\n",
        "        # Найти тот же индекс\n",
        "        index_sets = np.where(y_ == i)\n",
        "        # Разделите данные того же класса на подмножество кластеризации\n",
        "        cluster = X[index_sets]\n",
        "        # Отображение точек выборки\n",
        "        plt.scatter(cluster[:, 0], cluster[:, 1], c=colors[i], marker='.')\n",
        "        if j==1:          \n",
        "        # Кластерный центр\n",
        "            plt.plot(centers[i][0], centers[i][1], 'o',markerfacecolor=colors[i],markeredgecolor='k', markersize=6)\n",
        "plt.savefig('xx.png')\n",
        "plt.show()"
      ]
    },
    {
      "cell_type": "markdown",
      "id": "6abcab93",
      "metadata": {},
      "source": [
        "6. Посчитаем суммы квадратов расстояний от каждого объекта до его центра"
      ]
    },
    {
      "cell_type": "code",
      "execution_count": 10,
      "id": "232a4a4b",
      "metadata": {},
      "outputs": [],
      "source": [
        "def dist(A, B):\n",
        "      r=np.sqrt((A[0]-B[0])**2+(A[1]-B[1])**2)\n",
        "      return r\n",
        "\n",
        "m = len(X)\n",
        "k = len(centers)\n",
        " \n",
        "  # матрица расстояний от каждой точки до каждого центра\n",
        "distances = np.zeros((m, k))\n",
        "for i in range(m):\n",
        "    for j in range(k):\n",
        "        distances[i, j] = dist(centers[j], X[i])"
      ]
    },
    {
      "cell_type": "code",
      "execution_count": 11,
      "id": "fe4dd16d",
      "metadata": {},
      "outputs": [],
      "source": [
        "sum_cluster_0 = 0 \n",
        "sum_cluster_1 = 0\n",
        "\n",
        "i=0\n",
        "while i < len(labels):\n",
        "    if labels[i] == 0:\n",
        "        sum_cluster_0 += distances[i][0]**2\n",
        "    else:\n",
        "        sum_cluster_1 += distances[i][1]**2\n",
        "    i += 1"
      ]
    },
    {
      "cell_type": "code",
      "execution_count": 12,
      "id": "42220aa0",
      "metadata": {},
      "outputs": [
        {
          "name": "stdout",
          "output_type": "stream",
          "text": [
            "531.5634919642861\n",
            "503.4305155744679\n"
          ]
        }
      ],
      "source": [
        "print(sum_cluster_0)\n",
        "print(sum_cluster_1)"
      ]
    },
    {
      "cell_type": "code",
      "execution_count": null,
      "id": "b233a931",
      "metadata": {},
      "outputs": [],
      "source": []
    }
  ],
  "metadata": {
    "kernelspec": {
      "display_name": "Python 3 (ipykernel)",
      "language": "python",
      "name": "python3"
    },
    "language_info": {
      "codemirror_mode": {
        "name": "ipython",
        "version": 3
      },
      "file_extension": ".py",
      "mimetype": "text/x-python",
      "name": "python",
      "nbconvert_exporter": "python",
      "pygments_lexer": "ipython3",
      "version": "3.10.8"
    }
  },
  "nbformat": 4,
  "nbformat_minor": 5
}